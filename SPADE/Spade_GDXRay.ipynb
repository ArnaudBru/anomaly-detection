{
  "nbformat": 4,
  "nbformat_minor": 0,
  "metadata": {
    "accelerator": "GPU",
    "colab": {
      "name": "Spade_GDXRay.ipynb",
      "provenance": [],
      "collapsed_sections": [
        "yBP_UiGkqitd"
      ],
      "machine_shape": "hm"
    },
    "kernelspec": {
      "display_name": "Python 3",
      "name": "python3"
    },
    "widgets": {
      "application/vnd.jupyter.widget-state+json": {
        "32c6060621334807b16a965f14715acc": {
          "model_module": "@jupyter-widgets/controls",
          "model_name": "HBoxModel",
          "state": {
            "_view_name": "HBoxView",
            "_dom_classes": [],
            "_model_name": "HBoxModel",
            "_view_module": "@jupyter-widgets/controls",
            "_model_module_version": "1.5.0",
            "_view_count": null,
            "_view_module_version": "1.5.0",
            "box_style": "",
            "layout": "IPY_MODEL_a50f7a9541634736887e6ef3dca1f16e",
            "_model_module": "@jupyter-widgets/controls",
            "children": [
              "IPY_MODEL_8720dc12838e4c20b9887a61f9fe2c9a",
              "IPY_MODEL_7468c23bd81449ed9fa2bb69c4ea085c"
            ]
          }
        },
        "a50f7a9541634736887e6ef3dca1f16e": {
          "model_module": "@jupyter-widgets/base",
          "model_name": "LayoutModel",
          "state": {
            "_view_name": "LayoutView",
            "grid_template_rows": null,
            "right": null,
            "justify_content": null,
            "_view_module": "@jupyter-widgets/base",
            "overflow": null,
            "_model_module_version": "1.2.0",
            "_view_count": null,
            "flex_flow": null,
            "width": null,
            "min_width": null,
            "border": null,
            "align_items": null,
            "bottom": null,
            "_model_module": "@jupyter-widgets/base",
            "top": null,
            "grid_column": null,
            "overflow_y": null,
            "overflow_x": null,
            "grid_auto_flow": null,
            "grid_area": null,
            "grid_template_columns": null,
            "flex": null,
            "_model_name": "LayoutModel",
            "justify_items": null,
            "grid_row": null,
            "max_height": null,
            "align_content": null,
            "visibility": null,
            "align_self": null,
            "height": null,
            "min_height": null,
            "padding": null,
            "grid_auto_rows": null,
            "grid_gap": null,
            "max_width": null,
            "order": null,
            "_view_module_version": "1.2.0",
            "grid_template_areas": null,
            "object_position": null,
            "object_fit": null,
            "grid_auto_columns": null,
            "margin": null,
            "display": null,
            "left": null
          }
        },
        "8720dc12838e4c20b9887a61f9fe2c9a": {
          "model_module": "@jupyter-widgets/controls",
          "model_name": "FloatProgressModel",
          "state": {
            "_view_name": "ProgressView",
            "style": "IPY_MODEL_17c710a3bce74a07aa35a48321dd7ac1",
            "_dom_classes": [],
            "description": "100%",
            "_model_name": "FloatProgressModel",
            "bar_style": "success",
            "max": 138223492,
            "_view_module": "@jupyter-widgets/controls",
            "_model_module_version": "1.5.0",
            "value": 138223492,
            "_view_count": null,
            "_view_module_version": "1.5.0",
            "orientation": "horizontal",
            "min": 0,
            "description_tooltip": null,
            "_model_module": "@jupyter-widgets/controls",
            "layout": "IPY_MODEL_a613e0a25cf246b3b6ddae3ae41b58f4"
          }
        },
        "7468c23bd81449ed9fa2bb69c4ea085c": {
          "model_module": "@jupyter-widgets/controls",
          "model_name": "HTMLModel",
          "state": {
            "_view_name": "HTMLView",
            "style": "IPY_MODEL_8db76e578af744de86c30f2bd17689df",
            "_dom_classes": [],
            "description": "",
            "_model_name": "HTMLModel",
            "placeholder": "​",
            "_view_module": "@jupyter-widgets/controls",
            "_model_module_version": "1.5.0",
            "value": " 132M/132M [00:02&lt;00:00, 63.9MB/s]",
            "_view_count": null,
            "_view_module_version": "1.5.0",
            "description_tooltip": null,
            "_model_module": "@jupyter-widgets/controls",
            "layout": "IPY_MODEL_e4db5aacd4be4bf380cc9f68baa5a79d"
          }
        },
        "17c710a3bce74a07aa35a48321dd7ac1": {
          "model_module": "@jupyter-widgets/controls",
          "model_name": "ProgressStyleModel",
          "state": {
            "_view_name": "StyleView",
            "_model_name": "ProgressStyleModel",
            "description_width": "initial",
            "_view_module": "@jupyter-widgets/base",
            "_model_module_version": "1.5.0",
            "_view_count": null,
            "_view_module_version": "1.2.0",
            "bar_color": null,
            "_model_module": "@jupyter-widgets/controls"
          }
        },
        "a613e0a25cf246b3b6ddae3ae41b58f4": {
          "model_module": "@jupyter-widgets/base",
          "model_name": "LayoutModel",
          "state": {
            "_view_name": "LayoutView",
            "grid_template_rows": null,
            "right": null,
            "justify_content": null,
            "_view_module": "@jupyter-widgets/base",
            "overflow": null,
            "_model_module_version": "1.2.0",
            "_view_count": null,
            "flex_flow": null,
            "width": null,
            "min_width": null,
            "border": null,
            "align_items": null,
            "bottom": null,
            "_model_module": "@jupyter-widgets/base",
            "top": null,
            "grid_column": null,
            "overflow_y": null,
            "overflow_x": null,
            "grid_auto_flow": null,
            "grid_area": null,
            "grid_template_columns": null,
            "flex": null,
            "_model_name": "LayoutModel",
            "justify_items": null,
            "grid_row": null,
            "max_height": null,
            "align_content": null,
            "visibility": null,
            "align_self": null,
            "height": null,
            "min_height": null,
            "padding": null,
            "grid_auto_rows": null,
            "grid_gap": null,
            "max_width": null,
            "order": null,
            "_view_module_version": "1.2.0",
            "grid_template_areas": null,
            "object_position": null,
            "object_fit": null,
            "grid_auto_columns": null,
            "margin": null,
            "display": null,
            "left": null
          }
        },
        "8db76e578af744de86c30f2bd17689df": {
          "model_module": "@jupyter-widgets/controls",
          "model_name": "DescriptionStyleModel",
          "state": {
            "_view_name": "StyleView",
            "_model_name": "DescriptionStyleModel",
            "description_width": "",
            "_view_module": "@jupyter-widgets/base",
            "_model_module_version": "1.5.0",
            "_view_count": null,
            "_view_module_version": "1.2.0",
            "_model_module": "@jupyter-widgets/controls"
          }
        },
        "e4db5aacd4be4bf380cc9f68baa5a79d": {
          "model_module": "@jupyter-widgets/base",
          "model_name": "LayoutModel",
          "state": {
            "_view_name": "LayoutView",
            "grid_template_rows": null,
            "right": null,
            "justify_content": null,
            "_view_module": "@jupyter-widgets/base",
            "overflow": null,
            "_model_module_version": "1.2.0",
            "_view_count": null,
            "flex_flow": null,
            "width": null,
            "min_width": null,
            "border": null,
            "align_items": null,
            "bottom": null,
            "_model_module": "@jupyter-widgets/base",
            "top": null,
            "grid_column": null,
            "overflow_y": null,
            "overflow_x": null,
            "grid_auto_flow": null,
            "grid_area": null,
            "grid_template_columns": null,
            "flex": null,
            "_model_name": "LayoutModel",
            "justify_items": null,
            "grid_row": null,
            "max_height": null,
            "align_content": null,
            "visibility": null,
            "align_self": null,
            "height": null,
            "min_height": null,
            "padding": null,
            "grid_auto_rows": null,
            "grid_gap": null,
            "max_width": null,
            "order": null,
            "_view_module_version": "1.2.0",
            "grid_template_areas": null,
            "object_position": null,
            "object_fit": null,
            "grid_auto_columns": null,
            "margin": null,
            "display": null,
            "left": null
          }
        },
        "3fce14f8703d42beb042380eb01519f8": {
          "model_module": "@jupyter-widgets/controls",
          "model_name": "HBoxModel",
          "state": {
            "_view_name": "HBoxView",
            "_dom_classes": [],
            "_model_name": "HBoxModel",
            "_view_module": "@jupyter-widgets/controls",
            "_model_module_version": "1.5.0",
            "_view_count": null,
            "_view_module_version": "1.5.0",
            "box_style": "",
            "layout": "IPY_MODEL_23ce0443bb2d40418ed505e210282a06",
            "_model_module": "@jupyter-widgets/controls",
            "children": [
              "IPY_MODEL_9cd8ef58e80b4453a35339f6f04e15d5",
              "IPY_MODEL_4e5df0d292e94f6bb592c32fbf1abc5f"
            ]
          }
        },
        "23ce0443bb2d40418ed505e210282a06": {
          "model_module": "@jupyter-widgets/base",
          "model_name": "LayoutModel",
          "state": {
            "_view_name": "LayoutView",
            "grid_template_rows": null,
            "right": null,
            "justify_content": null,
            "_view_module": "@jupyter-widgets/base",
            "overflow": null,
            "_model_module_version": "1.2.0",
            "_view_count": null,
            "flex_flow": null,
            "width": null,
            "min_width": null,
            "border": null,
            "align_items": null,
            "bottom": null,
            "_model_module": "@jupyter-widgets/base",
            "top": null,
            "grid_column": null,
            "overflow_y": null,
            "overflow_x": null,
            "grid_auto_flow": null,
            "grid_area": null,
            "grid_template_columns": null,
            "flex": null,
            "_model_name": "LayoutModel",
            "justify_items": null,
            "grid_row": null,
            "max_height": null,
            "align_content": null,
            "visibility": null,
            "align_self": null,
            "height": null,
            "min_height": null,
            "padding": null,
            "grid_auto_rows": null,
            "grid_gap": null,
            "max_width": null,
            "order": null,
            "_view_module_version": "1.2.0",
            "grid_template_areas": null,
            "object_position": null,
            "object_fit": null,
            "grid_auto_columns": null,
            "margin": null,
            "display": null,
            "left": null
          }
        },
        "9cd8ef58e80b4453a35339f6f04e15d5": {
          "model_module": "@jupyter-widgets/controls",
          "model_name": "FloatProgressModel",
          "state": {
            "_view_name": "ProgressView",
            "style": "IPY_MODEL_6c53b3e150ea4188a4820eb6bae6b86a",
            "_dom_classes": [],
            "description": "| feature extraction | train |: 100%",
            "_model_name": "FloatProgressModel",
            "bar_style": "success",
            "max": 29,
            "_view_module": "@jupyter-widgets/controls",
            "_model_module_version": "1.5.0",
            "value": 29,
            "_view_count": null,
            "_view_module_version": "1.5.0",
            "orientation": "horizontal",
            "min": 0,
            "description_tooltip": null,
            "_model_module": "@jupyter-widgets/controls",
            "layout": "IPY_MODEL_bb675a7d644944aca98f9c6b2252b92f"
          }
        },
        "4e5df0d292e94f6bb592c32fbf1abc5f": {
          "model_module": "@jupyter-widgets/controls",
          "model_name": "HTMLModel",
          "state": {
            "_view_name": "HTMLView",
            "style": "IPY_MODEL_601b58265f5841f2826a7c96b932c57e",
            "_dom_classes": [],
            "description": "",
            "_model_name": "HTMLModel",
            "placeholder": "​",
            "_view_module": "@jupyter-widgets/controls",
            "_model_module_version": "1.5.0",
            "value": " 29/29 [00:29&lt;00:00,  1.01s/it]",
            "_view_count": null,
            "_view_module_version": "1.5.0",
            "description_tooltip": null,
            "_model_module": "@jupyter-widgets/controls",
            "layout": "IPY_MODEL_4895a1b95d4e478191ffe87ed5483ff7"
          }
        },
        "6c53b3e150ea4188a4820eb6bae6b86a": {
          "model_module": "@jupyter-widgets/controls",
          "model_name": "ProgressStyleModel",
          "state": {
            "_view_name": "StyleView",
            "_model_name": "ProgressStyleModel",
            "description_width": "initial",
            "_view_module": "@jupyter-widgets/base",
            "_model_module_version": "1.5.0",
            "_view_count": null,
            "_view_module_version": "1.2.0",
            "bar_color": null,
            "_model_module": "@jupyter-widgets/controls"
          }
        },
        "bb675a7d644944aca98f9c6b2252b92f": {
          "model_module": "@jupyter-widgets/base",
          "model_name": "LayoutModel",
          "state": {
            "_view_name": "LayoutView",
            "grid_template_rows": null,
            "right": null,
            "justify_content": null,
            "_view_module": "@jupyter-widgets/base",
            "overflow": null,
            "_model_module_version": "1.2.0",
            "_view_count": null,
            "flex_flow": null,
            "width": null,
            "min_width": null,
            "border": null,
            "align_items": null,
            "bottom": null,
            "_model_module": "@jupyter-widgets/base",
            "top": null,
            "grid_column": null,
            "overflow_y": null,
            "overflow_x": null,
            "grid_auto_flow": null,
            "grid_area": null,
            "grid_template_columns": null,
            "flex": null,
            "_model_name": "LayoutModel",
            "justify_items": null,
            "grid_row": null,
            "max_height": null,
            "align_content": null,
            "visibility": null,
            "align_self": null,
            "height": null,
            "min_height": null,
            "padding": null,
            "grid_auto_rows": null,
            "grid_gap": null,
            "max_width": null,
            "order": null,
            "_view_module_version": "1.2.0",
            "grid_template_areas": null,
            "object_position": null,
            "object_fit": null,
            "grid_auto_columns": null,
            "margin": null,
            "display": null,
            "left": null
          }
        },
        "601b58265f5841f2826a7c96b932c57e": {
          "model_module": "@jupyter-widgets/controls",
          "model_name": "DescriptionStyleModel",
          "state": {
            "_view_name": "StyleView",
            "_model_name": "DescriptionStyleModel",
            "description_width": "",
            "_view_module": "@jupyter-widgets/base",
            "_model_module_version": "1.5.0",
            "_view_count": null,
            "_view_module_version": "1.2.0",
            "_model_module": "@jupyter-widgets/controls"
          }
        },
        "4895a1b95d4e478191ffe87ed5483ff7": {
          "model_module": "@jupyter-widgets/base",
          "model_name": "LayoutModel",
          "state": {
            "_view_name": "LayoutView",
            "grid_template_rows": null,
            "right": null,
            "justify_content": null,
            "_view_module": "@jupyter-widgets/base",
            "overflow": null,
            "_model_module_version": "1.2.0",
            "_view_count": null,
            "flex_flow": null,
            "width": null,
            "min_width": null,
            "border": null,
            "align_items": null,
            "bottom": null,
            "_model_module": "@jupyter-widgets/base",
            "top": null,
            "grid_column": null,
            "overflow_y": null,
            "overflow_x": null,
            "grid_auto_flow": null,
            "grid_area": null,
            "grid_template_columns": null,
            "flex": null,
            "_model_name": "LayoutModel",
            "justify_items": null,
            "grid_row": null,
            "max_height": null,
            "align_content": null,
            "visibility": null,
            "align_self": null,
            "height": null,
            "min_height": null,
            "padding": null,
            "grid_auto_rows": null,
            "grid_gap": null,
            "max_width": null,
            "order": null,
            "_view_module_version": "1.2.0",
            "grid_template_areas": null,
            "object_position": null,
            "object_fit": null,
            "grid_auto_columns": null,
            "margin": null,
            "display": null,
            "left": null
          }
        },
        "b6e68ec4a43442f88a7b6d7175ec44c2": {
          "model_module": "@jupyter-widgets/controls",
          "model_name": "HBoxModel",
          "state": {
            "_view_name": "HBoxView",
            "_dom_classes": [],
            "_model_name": "HBoxModel",
            "_view_module": "@jupyter-widgets/controls",
            "_model_module_version": "1.5.0",
            "_view_count": null,
            "_view_module_version": "1.5.0",
            "box_style": "",
            "layout": "IPY_MODEL_b74f1d184fd4448bb42b5e0911d9e5a4",
            "_model_module": "@jupyter-widgets/controls",
            "children": [
              "IPY_MODEL_687423a1a18c456cb86507de8529ef23",
              "IPY_MODEL_b322a9776a8642fa92daaddd81ab316d"
            ]
          }
        },
        "b74f1d184fd4448bb42b5e0911d9e5a4": {
          "model_module": "@jupyter-widgets/base",
          "model_name": "LayoutModel",
          "state": {
            "_view_name": "LayoutView",
            "grid_template_rows": null,
            "right": null,
            "justify_content": null,
            "_view_module": "@jupyter-widgets/base",
            "overflow": null,
            "_model_module_version": "1.2.0",
            "_view_count": null,
            "flex_flow": null,
            "width": null,
            "min_width": null,
            "border": null,
            "align_items": null,
            "bottom": null,
            "_model_module": "@jupyter-widgets/base",
            "top": null,
            "grid_column": null,
            "overflow_y": null,
            "overflow_x": null,
            "grid_auto_flow": null,
            "grid_area": null,
            "grid_template_columns": null,
            "flex": null,
            "_model_name": "LayoutModel",
            "justify_items": null,
            "grid_row": null,
            "max_height": null,
            "align_content": null,
            "visibility": null,
            "align_self": null,
            "height": null,
            "min_height": null,
            "padding": null,
            "grid_auto_rows": null,
            "grid_gap": null,
            "max_width": null,
            "order": null,
            "_view_module_version": "1.2.0",
            "grid_template_areas": null,
            "object_position": null,
            "object_fit": null,
            "grid_auto_columns": null,
            "margin": null,
            "display": null,
            "left": null
          }
        },
        "687423a1a18c456cb86507de8529ef23": {
          "model_module": "@jupyter-widgets/controls",
          "model_name": "FloatProgressModel",
          "state": {
            "_view_name": "ProgressView",
            "style": "IPY_MODEL_eb82c506d0734089b5df697ac5178227",
            "_dom_classes": [],
            "description": "| feature extraction | test |: 100%",
            "_model_name": "FloatProgressModel",
            "bar_style": "success",
            "max": 22,
            "_view_module": "@jupyter-widgets/controls",
            "_model_module_version": "1.5.0",
            "value": 22,
            "_view_count": null,
            "_view_module_version": "1.5.0",
            "orientation": "horizontal",
            "min": 0,
            "description_tooltip": null,
            "_model_module": "@jupyter-widgets/controls",
            "layout": "IPY_MODEL_5e3d486102d6445387eedb084638f2f0"
          }
        },
        "b322a9776a8642fa92daaddd81ab316d": {
          "model_module": "@jupyter-widgets/controls",
          "model_name": "HTMLModel",
          "state": {
            "_view_name": "HTMLView",
            "style": "IPY_MODEL_07df0a2ab54c410aa1eb429fb29e2072",
            "_dom_classes": [],
            "description": "",
            "_model_name": "HTMLModel",
            "placeholder": "​",
            "_view_module": "@jupyter-widgets/controls",
            "_model_module_version": "1.5.0",
            "value": " 22/22 [03:48&lt;00:00, 10.38s/it]",
            "_view_count": null,
            "_view_module_version": "1.5.0",
            "description_tooltip": null,
            "_model_module": "@jupyter-widgets/controls",
            "layout": "IPY_MODEL_4343ad7bb64b4fe98b588ace5620a90e"
          }
        },
        "eb82c506d0734089b5df697ac5178227": {
          "model_module": "@jupyter-widgets/controls",
          "model_name": "ProgressStyleModel",
          "state": {
            "_view_name": "StyleView",
            "_model_name": "ProgressStyleModel",
            "description_width": "initial",
            "_view_module": "@jupyter-widgets/base",
            "_model_module_version": "1.5.0",
            "_view_count": null,
            "_view_module_version": "1.2.0",
            "bar_color": null,
            "_model_module": "@jupyter-widgets/controls"
          }
        },
        "5e3d486102d6445387eedb084638f2f0": {
          "model_module": "@jupyter-widgets/base",
          "model_name": "LayoutModel",
          "state": {
            "_view_name": "LayoutView",
            "grid_template_rows": null,
            "right": null,
            "justify_content": null,
            "_view_module": "@jupyter-widgets/base",
            "overflow": null,
            "_model_module_version": "1.2.0",
            "_view_count": null,
            "flex_flow": null,
            "width": null,
            "min_width": null,
            "border": null,
            "align_items": null,
            "bottom": null,
            "_model_module": "@jupyter-widgets/base",
            "top": null,
            "grid_column": null,
            "overflow_y": null,
            "overflow_x": null,
            "grid_auto_flow": null,
            "grid_area": null,
            "grid_template_columns": null,
            "flex": null,
            "_model_name": "LayoutModel",
            "justify_items": null,
            "grid_row": null,
            "max_height": null,
            "align_content": null,
            "visibility": null,
            "align_self": null,
            "height": null,
            "min_height": null,
            "padding": null,
            "grid_auto_rows": null,
            "grid_gap": null,
            "max_width": null,
            "order": null,
            "_view_module_version": "1.2.0",
            "grid_template_areas": null,
            "object_position": null,
            "object_fit": null,
            "grid_auto_columns": null,
            "margin": null,
            "display": null,
            "left": null
          }
        },
        "07df0a2ab54c410aa1eb429fb29e2072": {
          "model_module": "@jupyter-widgets/controls",
          "model_name": "DescriptionStyleModel",
          "state": {
            "_view_name": "StyleView",
            "_model_name": "DescriptionStyleModel",
            "description_width": "",
            "_view_module": "@jupyter-widgets/base",
            "_model_module_version": "1.5.0",
            "_view_count": null,
            "_view_module_version": "1.2.0",
            "_model_module": "@jupyter-widgets/controls"
          }
        },
        "4343ad7bb64b4fe98b588ace5620a90e": {
          "model_module": "@jupyter-widgets/base",
          "model_name": "LayoutModel",
          "state": {
            "_view_name": "LayoutView",
            "grid_template_rows": null,
            "right": null,
            "justify_content": null,
            "_view_module": "@jupyter-widgets/base",
            "overflow": null,
            "_model_module_version": "1.2.0",
            "_view_count": null,
            "flex_flow": null,
            "width": null,
            "min_width": null,
            "border": null,
            "align_items": null,
            "bottom": null,
            "_model_module": "@jupyter-widgets/base",
            "top": null,
            "grid_column": null,
            "overflow_y": null,
            "overflow_x": null,
            "grid_auto_flow": null,
            "grid_area": null,
            "grid_template_columns": null,
            "flex": null,
            "_model_name": "LayoutModel",
            "justify_items": null,
            "grid_row": null,
            "max_height": null,
            "align_content": null,
            "visibility": null,
            "align_self": null,
            "height": null,
            "min_height": null,
            "padding": null,
            "grid_auto_rows": null,
            "grid_gap": null,
            "max_width": null,
            "order": null,
            "_view_module_version": "1.2.0",
            "grid_template_areas": null,
            "object_position": null,
            "object_fit": null,
            "grid_auto_columns": null,
            "margin": null,
            "display": null,
            "left": null
          }
        },
        "4f46abf084f64ee2958bcd2a2e8fed81": {
          "model_module": "@jupyter-widgets/controls",
          "model_name": "HBoxModel",
          "state": {
            "_view_name": "HBoxView",
            "_dom_classes": [],
            "_model_name": "HBoxModel",
            "_view_module": "@jupyter-widgets/controls",
            "_model_module_version": "1.5.0",
            "_view_count": null,
            "_view_module_version": "1.5.0",
            "box_style": "",
            "layout": "IPY_MODEL_23560593732f47278429967180210a87",
            "_model_module": "@jupyter-widgets/controls",
            "children": [
              "IPY_MODEL_72c81af0190e4f51bd2f92695de29f04",
              "IPY_MODEL_822c99cbebd04f85b67c1cb9bc897c2c"
            ]
          }
        },
        "23560593732f47278429967180210a87": {
          "model_module": "@jupyter-widgets/base",
          "model_name": "LayoutModel",
          "state": {
            "_view_name": "LayoutView",
            "grid_template_rows": null,
            "right": null,
            "justify_content": null,
            "_view_module": "@jupyter-widgets/base",
            "overflow": null,
            "_model_module_version": "1.2.0",
            "_view_count": null,
            "flex_flow": null,
            "width": null,
            "min_width": null,
            "border": null,
            "align_items": null,
            "bottom": null,
            "_model_module": "@jupyter-widgets/base",
            "top": null,
            "grid_column": null,
            "overflow_y": null,
            "overflow_x": null,
            "grid_auto_flow": null,
            "grid_area": null,
            "grid_template_columns": null,
            "flex": null,
            "_model_name": "LayoutModel",
            "justify_items": null,
            "grid_row": null,
            "max_height": null,
            "align_content": null,
            "visibility": null,
            "align_self": null,
            "height": null,
            "min_height": null,
            "padding": null,
            "grid_auto_rows": null,
            "grid_gap": null,
            "max_width": null,
            "order": null,
            "_view_module_version": "1.2.0",
            "grid_template_areas": null,
            "object_position": null,
            "object_fit": null,
            "grid_auto_columns": null,
            "margin": null,
            "display": null,
            "left": null
          }
        },
        "72c81af0190e4f51bd2f92695de29f04": {
          "model_module": "@jupyter-widgets/controls",
          "model_name": "FloatProgressModel",
          "state": {
            "_view_name": "ProgressView",
            "style": "IPY_MODEL_feac2ee5c2a54fbe866bf047fafef5a7",
            "_dom_classes": [],
            "description": "| feature extraction | test | Welding |: 100%",
            "_model_name": "FloatProgressModel",
            "bar_style": "success",
            "max": 22,
            "_view_module": "@jupyter-widgets/controls",
            "_model_module_version": "1.5.0",
            "value": 22,
            "_view_count": null,
            "_view_module_version": "1.5.0",
            "orientation": "horizontal",
            "min": 0,
            "description_tooltip": null,
            "_model_module": "@jupyter-widgets/controls",
            "layout": "IPY_MODEL_e8f090085ba049819a3761e2bf7731b6"
          }
        },
        "822c99cbebd04f85b67c1cb9bc897c2c": {
          "model_module": "@jupyter-widgets/controls",
          "model_name": "HTMLModel",
          "state": {
            "_view_name": "HTMLView",
            "style": "IPY_MODEL_e41e1265e77142e6a53304b06550c510",
            "_dom_classes": [],
            "description": "",
            "_model_name": "HTMLModel",
            "placeholder": "​",
            "_view_module": "@jupyter-widgets/controls",
            "_model_module_version": "1.5.0",
            "value": " 22/22 [00:01&lt;00:00, 19.72it/s]",
            "_view_count": null,
            "_view_module_version": "1.5.0",
            "description_tooltip": null,
            "_model_module": "@jupyter-widgets/controls",
            "layout": "IPY_MODEL_957fe082006c45168728f7fb756c29af"
          }
        },
        "feac2ee5c2a54fbe866bf047fafef5a7": {
          "model_module": "@jupyter-widgets/controls",
          "model_name": "ProgressStyleModel",
          "state": {
            "_view_name": "StyleView",
            "_model_name": "ProgressStyleModel",
            "description_width": "initial",
            "_view_module": "@jupyter-widgets/base",
            "_model_module_version": "1.5.0",
            "_view_count": null,
            "_view_module_version": "1.2.0",
            "bar_color": null,
            "_model_module": "@jupyter-widgets/controls"
          }
        },
        "e8f090085ba049819a3761e2bf7731b6": {
          "model_module": "@jupyter-widgets/base",
          "model_name": "LayoutModel",
          "state": {
            "_view_name": "LayoutView",
            "grid_template_rows": null,
            "right": null,
            "justify_content": null,
            "_view_module": "@jupyter-widgets/base",
            "overflow": null,
            "_model_module_version": "1.2.0",
            "_view_count": null,
            "flex_flow": null,
            "width": null,
            "min_width": null,
            "border": null,
            "align_items": null,
            "bottom": null,
            "_model_module": "@jupyter-widgets/base",
            "top": null,
            "grid_column": null,
            "overflow_y": null,
            "overflow_x": null,
            "grid_auto_flow": null,
            "grid_area": null,
            "grid_template_columns": null,
            "flex": null,
            "_model_name": "LayoutModel",
            "justify_items": null,
            "grid_row": null,
            "max_height": null,
            "align_content": null,
            "visibility": null,
            "align_self": null,
            "height": null,
            "min_height": null,
            "padding": null,
            "grid_auto_rows": null,
            "grid_gap": null,
            "max_width": null,
            "order": null,
            "_view_module_version": "1.2.0",
            "grid_template_areas": null,
            "object_position": null,
            "object_fit": null,
            "grid_auto_columns": null,
            "margin": null,
            "display": null,
            "left": null
          }
        },
        "e41e1265e77142e6a53304b06550c510": {
          "model_module": "@jupyter-widgets/controls",
          "model_name": "DescriptionStyleModel",
          "state": {
            "_view_name": "StyleView",
            "_model_name": "DescriptionStyleModel",
            "description_width": "",
            "_view_module": "@jupyter-widgets/base",
            "_model_module_version": "1.5.0",
            "_view_count": null,
            "_view_module_version": "1.2.0",
            "_model_module": "@jupyter-widgets/controls"
          }
        },
        "957fe082006c45168728f7fb756c29af": {
          "model_module": "@jupyter-widgets/base",
          "model_name": "LayoutModel",
          "state": {
            "_view_name": "LayoutView",
            "grid_template_rows": null,
            "right": null,
            "justify_content": null,
            "_view_module": "@jupyter-widgets/base",
            "overflow": null,
            "_model_module_version": "1.2.0",
            "_view_count": null,
            "flex_flow": null,
            "width": null,
            "min_width": null,
            "border": null,
            "align_items": null,
            "bottom": null,
            "_model_module": "@jupyter-widgets/base",
            "top": null,
            "grid_column": null,
            "overflow_y": null,
            "overflow_x": null,
            "grid_auto_flow": null,
            "grid_area": null,
            "grid_template_columns": null,
            "flex": null,
            "_model_name": "LayoutModel",
            "justify_items": null,
            "grid_row": null,
            "max_height": null,
            "align_content": null,
            "visibility": null,
            "align_self": null,
            "height": null,
            "min_height": null,
            "padding": null,
            "grid_auto_rows": null,
            "grid_gap": null,
            "max_width": null,
            "order": null,
            "_view_module_version": "1.2.0",
            "grid_template_areas": null,
            "object_position": null,
            "object_fit": null,
            "grid_auto_columns": null,
            "margin": null,
            "display": null,
            "left": null
          }
        },
        "312de70da70b464080666545b597a1d4": {
          "model_module": "@jupyter-widgets/controls",
          "model_name": "HBoxModel",
          "state": {
            "_view_name": "HBoxView",
            "_dom_classes": [],
            "_model_name": "HBoxModel",
            "_view_module": "@jupyter-widgets/controls",
            "_model_module_version": "1.5.0",
            "_view_count": null,
            "_view_module_version": "1.5.0",
            "box_style": "",
            "layout": "IPY_MODEL_1f004acb553c40098e338d76d423460c",
            "_model_module": "@jupyter-widgets/controls",
            "children": [
              "IPY_MODEL_13dc74c9dac6405e8b4e2ef76f074365",
              "IPY_MODEL_1909fef4d7864b21a759334bf41e7ff6"
            ]
          }
        },
        "1f004acb553c40098e338d76d423460c": {
          "model_module": "@jupyter-widgets/base",
          "model_name": "LayoutModel",
          "state": {
            "_view_name": "LayoutView",
            "grid_template_rows": null,
            "right": null,
            "justify_content": null,
            "_view_module": "@jupyter-widgets/base",
            "overflow": null,
            "_model_module_version": "1.2.0",
            "_view_count": null,
            "flex_flow": null,
            "width": null,
            "min_width": null,
            "border": null,
            "align_items": null,
            "bottom": null,
            "_model_module": "@jupyter-widgets/base",
            "top": null,
            "grid_column": null,
            "overflow_y": null,
            "overflow_x": null,
            "grid_auto_flow": null,
            "grid_area": null,
            "grid_template_columns": null,
            "flex": null,
            "_model_name": "LayoutModel",
            "justify_items": null,
            "grid_row": null,
            "max_height": null,
            "align_content": null,
            "visibility": null,
            "align_self": null,
            "height": null,
            "min_height": null,
            "padding": null,
            "grid_auto_rows": null,
            "grid_gap": null,
            "max_width": null,
            "order": null,
            "_view_module_version": "1.2.0",
            "grid_template_areas": null,
            "object_position": null,
            "object_fit": null,
            "grid_auto_columns": null,
            "margin": null,
            "display": null,
            "left": null
          }
        },
        "13dc74c9dac6405e8b4e2ef76f074365": {
          "model_module": "@jupyter-widgets/controls",
          "model_name": "FloatProgressModel",
          "state": {
            "_view_name": "ProgressView",
            "style": "IPY_MODEL_97f4e6af8bb34b78b216bb13ddd5fd0a",
            "_dom_classes": [],
            "description": "| localization |: 100%",
            "_model_name": "FloatProgressModel",
            "bar_style": "success",
            "max": 85,
            "_view_module": "@jupyter-widgets/controls",
            "_model_module_version": "1.5.0",
            "value": 85,
            "_view_count": null,
            "_view_module_version": "1.5.0",
            "orientation": "horizontal",
            "min": 0,
            "description_tooltip": null,
            "_model_module": "@jupyter-widgets/controls",
            "layout": "IPY_MODEL_9d348eed6be44448b9324a71acd73409"
          }
        },
        "1909fef4d7864b21a759334bf41e7ff6": {
          "model_module": "@jupyter-widgets/controls",
          "model_name": "HTMLModel",
          "state": {
            "_view_name": "HTMLView",
            "style": "IPY_MODEL_a38c707cd65945a085471bb09e2a3c11",
            "_dom_classes": [],
            "description": "",
            "_model_name": "HTMLModel",
            "placeholder": "​",
            "_view_module": "@jupyter-widgets/controls",
            "_model_module_version": "1.5.0",
            "value": " 85/85 [03:46&lt;00:00,  2.66s/it]",
            "_view_count": null,
            "_view_module_version": "1.5.0",
            "description_tooltip": null,
            "_model_module": "@jupyter-widgets/controls",
            "layout": "IPY_MODEL_58a40f1d263449ca950c0bce4dbe01f7"
          }
        },
        "97f4e6af8bb34b78b216bb13ddd5fd0a": {
          "model_module": "@jupyter-widgets/controls",
          "model_name": "ProgressStyleModel",
          "state": {
            "_view_name": "StyleView",
            "_model_name": "ProgressStyleModel",
            "description_width": "initial",
            "_view_module": "@jupyter-widgets/base",
            "_model_module_version": "1.5.0",
            "_view_count": null,
            "_view_module_version": "1.2.0",
            "bar_color": null,
            "_model_module": "@jupyter-widgets/controls"
          }
        },
        "9d348eed6be44448b9324a71acd73409": {
          "model_module": "@jupyter-widgets/base",
          "model_name": "LayoutModel",
          "state": {
            "_view_name": "LayoutView",
            "grid_template_rows": null,
            "right": null,
            "justify_content": null,
            "_view_module": "@jupyter-widgets/base",
            "overflow": null,
            "_model_module_version": "1.2.0",
            "_view_count": null,
            "flex_flow": null,
            "width": null,
            "min_width": null,
            "border": null,
            "align_items": null,
            "bottom": null,
            "_model_module": "@jupyter-widgets/base",
            "top": null,
            "grid_column": null,
            "overflow_y": null,
            "overflow_x": null,
            "grid_auto_flow": null,
            "grid_area": null,
            "grid_template_columns": null,
            "flex": null,
            "_model_name": "LayoutModel",
            "justify_items": null,
            "grid_row": null,
            "max_height": null,
            "align_content": null,
            "visibility": null,
            "align_self": null,
            "height": null,
            "min_height": null,
            "padding": null,
            "grid_auto_rows": null,
            "grid_gap": null,
            "max_width": null,
            "order": null,
            "_view_module_version": "1.2.0",
            "grid_template_areas": null,
            "object_position": null,
            "object_fit": null,
            "grid_auto_columns": null,
            "margin": null,
            "display": null,
            "left": null
          }
        },
        "a38c707cd65945a085471bb09e2a3c11": {
          "model_module": "@jupyter-widgets/controls",
          "model_name": "DescriptionStyleModel",
          "state": {
            "_view_name": "StyleView",
            "_model_name": "DescriptionStyleModel",
            "description_width": "",
            "_view_module": "@jupyter-widgets/base",
            "_model_module_version": "1.5.0",
            "_view_count": null,
            "_view_module_version": "1.2.0",
            "_model_module": "@jupyter-widgets/controls"
          }
        },
        "58a40f1d263449ca950c0bce4dbe01f7": {
          "model_module": "@jupyter-widgets/base",
          "model_name": "LayoutModel",
          "state": {
            "_view_name": "LayoutView",
            "grid_template_rows": null,
            "right": null,
            "justify_content": null,
            "_view_module": "@jupyter-widgets/base",
            "overflow": null,
            "_model_module_version": "1.2.0",
            "_view_count": null,
            "flex_flow": null,
            "width": null,
            "min_width": null,
            "border": null,
            "align_items": null,
            "bottom": null,
            "_model_module": "@jupyter-widgets/base",
            "top": null,
            "grid_column": null,
            "overflow_y": null,
            "overflow_x": null,
            "grid_auto_flow": null,
            "grid_area": null,
            "grid_template_columns": null,
            "flex": null,
            "_model_name": "LayoutModel",
            "justify_items": null,
            "grid_row": null,
            "max_height": null,
            "align_content": null,
            "visibility": null,
            "align_self": null,
            "height": null,
            "min_height": null,
            "padding": null,
            "grid_auto_rows": null,
            "grid_gap": null,
            "max_width": null,
            "order": null,
            "_view_module_version": "1.2.0",
            "grid_template_areas": null,
            "object_position": null,
            "object_fit": null,
            "grid_auto_columns": null,
            "margin": null,
            "display": null,
            "left": null
          }
        }
      }
    }
  },
  "cells": [
    {
      "cell_type": "markdown",
      "metadata": {
        "id": "AMcYmaGW8myY"
      },
      "source": [
        "# Imports"
      ]
    },
    {
      "cell_type": "code",
      "metadata": {
        "id": "sjKy8uf6xAkS"
      },
      "source": [
        "import numpy as np\n",
        "import os\n",
        "import csv\n",
        "import time\n",
        "import pickle\n",
        "from skimage import io\n",
        "\n",
        "from tqdm.notebook import tqdm\n",
        "from collections import OrderedDict\n",
        "from sklearn.svm import OneClassSVM\n",
        "from sklearn.metrics import roc_auc_score\n",
        "from sklearn.metrics import roc_curve\n",
        "from sklearn.metrics import precision_recall_curve\n",
        "from scipy.ndimage import gaussian_filter\n",
        "import matplotlib.pyplot as plt\n",
        "\n",
        "import torch\n",
        "import torch.nn.functional as F\n",
        "from torch.utils.data import DataLoader\n",
        "from torchvision.models import wide_resnet50_2\n",
        "from torch.utils.data import Dataset, DataLoader\n",
        "from torchvision import transforms\n",
        "\n",
        "from google.colab import drive"
      ],
      "execution_count": null,
      "outputs": []
    },
    {
      "cell_type": "code",
      "metadata": {
        "colab": {
          "base_uri": "https://localhost:8080/"
        },
        "id": "-9MfHhVrqqqJ",
        "outputId": "70988b51-2b81-4f07-8d43-f730baa28c3a"
      },
      "source": [
        "drive.mount('/content/drive', force_remount=True)"
      ],
      "execution_count": null,
      "outputs": [
        {
          "output_type": "stream",
          "text": [
            "Mounted at /content/drive\n"
          ],
          "name": "stdout"
        }
      ]
    },
    {
      "cell_type": "code",
      "metadata": {
        "id": "o4UxleBwfDAE"
      },
      "source": [
        "import shutil\n",
        "\n",
        "result_folder = './my_results'\n",
        "shutil.rmtree(result_folder, ignore_errors=True)"
      ],
      "execution_count": null,
      "outputs": []
    },
    {
      "cell_type": "markdown",
      "metadata": {
        "id": "_ocQkZOr9AOy"
      },
      "source": [
        "# Code implementation"
      ]
    },
    {
      "cell_type": "code",
      "metadata": {
        "id": "0TvSc57G3Zcm"
      },
      "source": [
        "def calc_dist_matrix(x, y):\n",
        "    \"\"\"Calculate Euclidean distance matrix with torch.tensor\"\"\"\n",
        "    n = x.size(0)\n",
        "    m = y.size(0)\n",
        "    d = x.size(1)\n",
        "    x = x.unsqueeze(1).expand(n, m, d)\n",
        "    y = y.unsqueeze(0).expand(n, m, d)\n",
        "    dist_matrix = torch.sqrt(torch.pow(x - y, 2).sum(2))\n",
        "    return dist_matrix\n"
      ],
      "execution_count": null,
      "outputs": []
    },
    {
      "cell_type": "code",
      "metadata": {
        "id": "TtRTf6tz3epH"
      },
      "source": [
        "def visualize_loc_result(test_imgs, gt_mask_list, score_map_list, threshold,\n",
        "                         save_path, class_name, vis_num=5):\n",
        "\n",
        "    for t_idx in range(vis_num):\n",
        "        test_img = test_imgs[t_idx]\n",
        "        test_img = denormalization(test_img)\n",
        "        test_gt = gt_mask_list[t_idx].transpose(1, 2, 0).squeeze()\n",
        "        test_pred = score_map_list[t_idx]\n",
        "        test_pred[test_pred <= threshold] = 0\n",
        "        test_pred[test_pred > threshold] = 1\n",
        "        test_pred_img = test_img.copy()\n",
        "        test_pred_img[test_pred == 0] = 0\n",
        "\n",
        "        fig_img, ax_img = plt.subplots(1, 4, figsize=(12, 4))\n",
        "        fig_img.subplots_adjust(left=0, right=1, bottom=0, top=1)\n",
        "\n",
        "        for ax_i in ax_img:\n",
        "            ax_i.axes.xaxis.set_visible(False)\n",
        "            ax_i.axes.yaxis.set_visible(False)\n",
        "\n",
        "        ax_img[0].imshow(test_img)\n",
        "        ax_img[0].title.set_text('Image')\n",
        "        ax_img[1].imshow(test_gt, cmap='gray')\n",
        "        ax_img[1].title.set_text('GroundTruth')\n",
        "        ax_img[2].imshow(test_pred, cmap='gray')\n",
        "        ax_img[2].title.set_text('Predicted mask')\n",
        "        ax_img[3].imshow(test_pred_img)\n",
        "        ax_img[3].title.set_text('Predicted anomalous image')\n",
        "\n",
        "        os.makedirs(os.path.join(save_path, 'images'), exist_ok=True)\n",
        "        fig_img.savefig(os.path.join(save_path, 'images', '%s_%03d.png' % (class_name, t_idx)), dpi=100)\n",
        "        fig_img.clf()\n",
        "        plt.close(fig_img)\n"
      ],
      "execution_count": null,
      "outputs": []
    },
    {
      "cell_type": "code",
      "metadata": {
        "id": "kGY-4KOX3kJJ"
      },
      "source": [
        "def denormalization(x):\n",
        "    mean = np.array([0.485, 0.456, 0.406])\n",
        "    std = np.array([0.229, 0.224, 0.225])\n",
        "    x = (((x.transpose(1, 2, 0) * std) + mean) * 255.).astype(np.uint8)\n",
        "    return x"
      ],
      "execution_count": null,
      "outputs": []
    },
    {
      "cell_type": "code",
      "metadata": {
        "id": "NEIPx2Da59Pi"
      },
      "source": [
        "class Spade(object):\n",
        "  def __init__(self, modelType, device, save_path=\"./result\"):\n",
        "    self.device = device\n",
        "    # load model\n",
        "    self.model = modelType.to(self.device)\n",
        "    self.model.eval()\n",
        "    self.save_path = save_path\n",
        "    \n",
        "    os.makedirs(os.path.join(self.save_path, 'temp'), exist_ok=True)\n",
        "\n",
        "  @torch.no_grad()\n",
        "  #recupere les features du NN\n",
        "  def forward(self, loader, is_train=True):\n",
        "    outputs = []\n",
        "\n",
        "    def hook(module, input, output):\n",
        "        outputs.append(output)\n",
        "\n",
        "    self.model.layer1[-1].register_forward_hook(hook)\n",
        "    self.model.layer2[-1].register_forward_hook(hook)\n",
        "    self.model.layer3[-1].register_forward_hook(hook)\n",
        "    self.model.avgpool.register_forward_hook(hook)\n",
        "\n",
        "    outputs_dict = OrderedDict([('layer1', []), ('layer2', []), ('layer3', []), ('avgpool', [])])\n",
        "\n",
        "    phase = 'train' if is_train else 'test'\n",
        "    for (x, y, mask) in tqdm(loader, f'| feature extraction | {phase} |'):\n",
        "        # model prediction\n",
        "        # This fills outputs automatically\n",
        "        with torch.no_grad():\n",
        "            # Comment fonctionne cette fonction ?\n",
        "            pred = self.model(x.to(device))\n",
        "        # get intermediate layer outputs\n",
        "        for k, v in zip(outputs_dict.keys(), outputs):\n",
        "            outputs_dict[k].append(v)\n",
        "        # initialize hook outputs\n",
        "        outputs = []\n",
        "    for k, v in outputs_dict.items():\n",
        "        outputs_dict[k] = torch.cat(v, 0)\n",
        "\n",
        "    if is_train:\n",
        "      self.train_outputs = outputs_dict\n",
        "    else:\n",
        "      return outputs_dict\n",
        "\n",
        "  def ocsvm(self):\n",
        "        # OCSVM à faire sur les features\n",
        "        X_ocsvm = self.train_outputs['avgpool'].cpu()\n",
        "        print('OCSVM')\n",
        "        ocsvm_class = OneClassSVM(kernel='rbf').fit_predict(X_ocsvm.reshape((X_ocsvm.shape[0], -1)))\n",
        "        result_mask = ocsvm_class > 0\n",
        "        print(f'{np.sum(result_mask)} / {result_mask.size} valeurs normales')\n",
        "        # Pour chaque feature matrix de train_outputs\n",
        "        # On ne garde que les features des images \"normales\" selon l'OCSVM\n",
        "        ocsvm_outputs_dict = OrderedDict([('layer1', []), ('layer2', []), ('layer3', []), ('avgpool', [])])\n",
        "        for key in ocsvm_outputs_dict.keys():\n",
        "          ocsvm_outputs_dict[key] = self.train_outputs[key][result_mask].to(self.device)\n",
        "        self.train_outputs = ocsvm_outputs_dict\n",
        "\n",
        "\n",
        "  def get_dist_matrix(self, test_outputs):\n",
        "    return calc_dist_matrix(torch.flatten(test_outputs['avgpool'], 1),\n",
        "                            torch.flatten(self.train_outputs['avgpool'], 1))\n",
        "\n",
        "  def get_topk_values(self, dist_mat, top_k=5):\n",
        "    values, _ = torch.topk(dist_mat, k=top_k, dim=1, largest=False)\n",
        "    return values\n",
        "\n",
        "  def get_topk_neighbours(self, dist_mat, top_k=5):\n",
        "    _, neighbours = torch.topk(dist_mat, k=top_k, dim=1, largest=False)\n",
        "    return neighbours\n",
        "\n",
        "  def anomaly_detection(self, test_outputs, top_k=5):\n",
        "\n",
        "    dist_matrix = calc_dist_matrix(torch.flatten(test_outputs['avgpool'], 1),\n",
        "                                   torch.flatten(self.train_outputs['avgpool'], 1))\n",
        "\n",
        "    # select K nearest neighbor and take average\n",
        "    topk_values = self.get_topk_values(dist_matrix, top_k=top_k)\n",
        "    scores = torch.mean(topk_values, 1).cpu().detach().numpy()\n",
        "\n",
        "    return scores\n",
        "\n",
        "  def anomaly_localization(self, test_outputs, neighbours):\n",
        "    \n",
        "    score_map_list = []\n",
        "    for t_idx in tqdm(range(test_outputs['avgpool'].shape[0]), '| localization |'):\n",
        "        score_maps = []\n",
        "        for layer_name in ['layer1', 'layer2', 'layer3']:  # for each layer\n",
        "\n",
        "            # construct a gallery of features at all pixel locations of the K nearest neighbors\n",
        "            topk_feat_map = self.train_outputs[layer_name][neighbours[t_idx]]\n",
        "            test_feat_map = test_outputs[layer_name][t_idx:t_idx + 1]\n",
        "            feat_gallery = topk_feat_map.transpose(3, 1).flatten(0, 2).unsqueeze(-1).unsqueeze(-1)\n",
        "\n",
        "            # calculate distance matrix\n",
        "            dist_matrix_list = []\n",
        "            for d_idx in range(feat_gallery.shape[0] // 100):\n",
        "                dist_matrix = torch.pairwise_distance(feat_gallery[d_idx * 100:d_idx * 100 + 100], test_feat_map)\n",
        "                dist_matrix_list.append(dist_matrix)\n",
        "            dist_matrix = torch.cat(dist_matrix_list, 0)\n",
        "\n",
        "            # k nearest features from the gallery (k=1)\n",
        "            score_map = torch.min(dist_matrix, dim=0)[0]\n",
        "            score_map = F.interpolate(score_map.unsqueeze(0).unsqueeze(0), size=256,\n",
        "                                      mode='bilinear', align_corners=False)\n",
        "            score_maps.append(score_map)\n",
        "\n",
        "        # average distance between the features\n",
        "        score_map = torch.mean(torch.cat(score_maps, 0), dim=0)\n",
        "\n",
        "        # apply gaussian smoothing on the score map\n",
        "        score_map = gaussian_filter(score_map.squeeze().cpu().detach().numpy(), sigma=4)\n",
        "        score_map_list.append(score_map)\n",
        "\n",
        "    return score_map_list\n"
      ],
      "execution_count": null,
      "outputs": []
    },
    {
      "cell_type": "code",
      "metadata": {
        "id": "UdAAWRwz-9Mb"
      },
      "source": [
        "def get_scores(train_dataloader, test_dataloader, model, visualize=False, knn=5):\n",
        "    my_spade = Spade(my_model, device)\n",
        "    \n",
        "    my_spade.forward(train_dataloader, is_train=True)\n",
        "    #my_spade.ocsvm()\n",
        "    my_class_test_outputs = (my_spade.forward(test_dataloader, is_train=False))\n",
        "    \n",
        "    gt_list = []\n",
        "    gt_mask_list = []\n",
        "    test_imgs = []\n",
        "\n",
        "    # extract test set truth\n",
        "    for (x, y, mask) in tqdm(test_dataloader, '| feature extraction | test | %s |' % class_name):\n",
        "        test_imgs.extend(x.cpu().detach().numpy())\n",
        "        gt_list.extend(y.cpu().detach().numpy())\n",
        "        gt_mask_list.extend(mask.cpu().detach().numpy())\n",
        "    \n",
        "    t0_det = time.time()\n",
        "    scores = my_spade.anomaly_detection(my_class_test_outputs, top_k=knn)\n",
        "    t1_det = time.time()\n",
        "    time_det = t1_det-t0_det\n",
        "    print(f'Detection Time: {time_det}')\n",
        "\n",
        "    # calculate image-level ROC AUC score\n",
        "    fpr, tpr, _ = roc_curve(gt_list, scores)\n",
        "    roc_auc = roc_auc_score(gt_list, scores)\n",
        "\n",
        "    #total_roc_auc.append(roc_auc)\n",
        "    print('%s ROCAUC: %.3f' % (class_name, roc_auc))\n",
        "    #fig_img_rocauc.plot(fpr, tpr, label='%s ROCAUC: %.3f' % (class_name, roc_auc))\n",
        "\n",
        "    t0_loc = time.time()\n",
        "    my_score_loc = my_spade.anomaly_localization(my_class_test_outputs,\n",
        "                                                 my_spade.get_topk_neighbours(my_spade.get_dist_matrix(my_class_test_outputs), top_k=knn))\n",
        "    t1_loc = time.time()\n",
        "    time_loc = t1_loc-t0_loc\n",
        "    print(f'Localization Time: {time_loc}')\n",
        "\n",
        "    flatten_gt_mask_list = np.concatenate(gt_mask_list).ravel()\n",
        "    flatten_score_map_list = np.concatenate(my_score_loc).ravel()\n",
        "\n",
        "    # calculate per-pixel level ROCAUC\n",
        "    fpr_pixel, tpr_pixel, _ = roc_curve(flatten_gt_mask_list, flatten_score_map_list)\n",
        "    per_pixel_rocauc = roc_auc_score(flatten_gt_mask_list, flatten_score_map_list)\n",
        "    print('%s pixel ROCAUC: %.3f' % (class_name, per_pixel_rocauc))\n",
        "    #fig_pixel_rocauc.plot(fpr_pixel, tpr_pixel, label='%s ROCAUC: %.3f' % (class_name, per_pixel_rocauc))\n",
        "\n",
        "    if visualize:\n",
        "      # get optimal threshold\n",
        "      precision, recall, thresholds = precision_recall_curve(flatten_gt_mask_list, flatten_score_map_list)\n",
        "      a = 2 * precision * recall\n",
        "      b = precision + recall\n",
        "      f1 = np.divide(a, b, out=np.zeros_like(a), where=b != 0)\n",
        "      threshold = thresholds[np.argmax(f1)]\n",
        "\n",
        "      # visualize localization result\n",
        "      visualize_loc_result(test_imgs, gt_mask_list, my_score_loc, threshold, my_spade.save_path, class_name, vis_num=5)\n",
        "\n",
        "    return fpr, tpr, roc_auc, fpr_pixel, tpr_pixel, per_pixel_rocauc"
      ],
      "execution_count": null,
      "outputs": []
    },
    {
      "cell_type": "markdown",
      "metadata": {
        "id": "yBP_UiGkqitd"
      },
      "source": [
        "## Data Loading"
      ]
    },
    {
      "cell_type": "markdown",
      "metadata": {
        "id": "tP5juf20rLKm"
      },
      "source": [
        "### Train set"
      ]
    },
    {
      "cell_type": "code",
      "metadata": {
        "id": "O460uamHqiZH"
      },
      "source": [
        "class WeldingsTrainDataset(Dataset):\n",
        "    \"\"\"Weldings Train dataset.\"\"\"\n",
        "\n",
        "    def __init__(self, root_dir, transform=None):\n",
        "\n",
        "        filelist = [file for file in os.listdir(root_dir) if file.endswith('.png')]\n",
        "        filelist = [file for file in filelist if file[-5] in '12346789']\n",
        "        \n",
        "        self.filelist = filelist\n",
        "\n",
        "        self.image_dir = root_dir\n",
        "        self.transform = transform\n",
        "\n",
        "    def __len__(self):\n",
        "        return len(self.filelist)\n",
        "\n",
        "    def __getitem__(self, idx):\n",
        "        if torch.is_tensor(idx):\n",
        "            idx = idx.tolist()\n",
        "\n",
        "        img_name = os.path.join(self.image_dir, self.filelist[idx])\n",
        "        image = io.imread(img_name)\n",
        "\n",
        "        # Create empty anomaly mask\n",
        "        mask = np.zeros_like(image)\n",
        "\n",
        "        if self.transform:\n",
        "            image = self.transform(image)\n",
        "            mask = self.transform(mask)[0,:,:]\n",
        "\n",
        "        label = 0\n",
        "        \n",
        "        sample = [image, label, mask]\n",
        "\n",
        "        return sample"
      ],
      "execution_count": null,
      "outputs": []
    },
    {
      "cell_type": "code",
      "metadata": {
        "colab": {
          "base_uri": "https://localhost:8080/"
        },
        "id": "Hy-vd7v0q-gR",
        "outputId": "c2608dc0-705f-4b8d-9eab-69fd8cd4ce1e"
      },
      "source": [
        "root_folder = '/content/drive/MyDrive/gdxray_selected_patches/clean'\n",
        "\n",
        "transformations = transforms.Compose([\n",
        "                                      transforms.ToTensor(),\n",
        "                                      transforms.CenterCrop(256),\n",
        "                                      transforms.Lambda(lambda x: x.repeat(3, 1, 1) )\n",
        "                                      ])\n",
        "\n",
        "train_dataset = WeldingsTrainDataset(root_dir=root_folder, transform=transformations)\n",
        "len(train_dataset)"
      ],
      "execution_count": null,
      "outputs": [
        {
          "output_type": "execute_result",
          "data": {
            "text/plain": [
              "114"
            ]
          },
          "metadata": {
            "tags": []
          },
          "execution_count": 10
        }
      ]
    },
    {
      "cell_type": "code",
      "metadata": {
        "id": "HuQxzPJoq-c6"
      },
      "source": [
        "train_dataloader = DataLoader(train_dataset, batch_size=4, shuffle=True, num_workers=0)"
      ],
      "execution_count": null,
      "outputs": []
    },
    {
      "cell_type": "code",
      "metadata": {
        "colab": {
          "base_uri": "https://localhost:8080/"
        },
        "id": "EDAsgfKAq-Zp",
        "outputId": "b06a9d7f-71f0-43c5-9fa0-aeb2238bdcf0"
      },
      "source": [
        "for i_batch, (images, label, masks) in enumerate(train_dataloader):\n",
        "    print(i_batch, images.size(), label, masks.size())\n",
        "    print(masks.min(), masks.max())\n",
        "    print(masks.shape)\n",
        "    for image in images:\n",
        "      plt.imshow(torch.moveaxis(image, 0, -1))\n",
        "      plt.show()\n",
        "    break"
      ],
      "execution_count": null,
      "outputs": [
        {
          "output_type": "stream",
          "text": [
            "0 torch.Size([4, 3, 256, 256]) tensor([0, 0, 0, 0]) torch.Size([4, 256, 256])\n",
            "tensor(0.) tensor(0.)\n",
            "torch.Size([4, 256, 256])\n"
          ],
          "name": "stdout"
        },
        {
          "output_type": "display_data",
          "data": {
            "image/png": "[encoded data removed]",
            "text/plain": [
              "<Figure size 432x288 with 1 Axes>"
            ]
          },
          "metadata": {
            "tags": [],
            "needs_background": "light"
          }
        },
        {
          "output_type": "display_data",
          "data": {
            "image/png": "[encoded data removed]",
            "text/plain": [
              "<Figure size 432x288 with 1 Axes>"
            ]
          },
          "metadata": {
            "tags": [],
            "needs_background": "light"
          }
        },
        {
          "output_type": "display_data",
          "data": {
            "image/png": "[encoded data removed]",
            "text/plain": [
              "<Figure size 432x288 with 1 Axes>"
            ]
          },
          "metadata": {
            "tags": [],
            "needs_background": "light"
          }
        },
        {
          "output_type": "display_data",
          "data": {
            "image/png": "[encoded data removed]",
            "text/plain": [
              "<Figure size 432x288 with 1 Axes>"
            ]
          },
          "metadata": {
            "tags": [],
            "needs_background": "light"
          }
        }
      ]
    },
    {
      "cell_type": "markdown",
      "metadata": {
        "id": "tm_NtSbDrSl1"
      },
      "source": [
        "### Test set"
      ]
    },
    {
      "cell_type": "code",
      "metadata": {
        "id": "gFwnlmfrrUie"
      },
      "source": [
        "class WeldingsTestDataset(Dataset):\n",
        "    \"\"\"Weldings Test dataset.\"\"\"\n",
        "\n",
        "    def __init__(self, image_dir, masks_dir, clean_dir, transform=None):\n",
        "\n",
        "        self.filelist = [file for file in os.listdir(image_dir) if file.endswith('.png')]\n",
        "        dirty_filelist = [file for file in os.listdir(clean_dir) if file.endswith('.png')]\n",
        "        dirty_filelist = [file for file in dirty_filelist if file[-5] in '05']\n",
        "        self.filelist.extend(dirty_filelist)\n",
        "\n",
        "        self.image_dir = image_dir\n",
        "        self.masks_dir = masks_dir\n",
        "        self.clean_dir = clean_dir\n",
        "        self.transform = transform\n",
        "\n",
        "    def __len__(self):\n",
        "        return len(self.filelist)\n",
        "\n",
        "    def __getitem__(self, idx):\n",
        "        if torch.is_tensor(idx):\n",
        "            idx = idx.tolist()\n",
        "        if self.filelist[idx].startswith('W'):\n",
        "          img_name = os.path.join(self.image_dir, self.filelist[idx])\n",
        "          image = io.imread(img_name)\n",
        "          mask_name = os.path.join(self.masks_dir, self.filelist[idx])\n",
        "          mask = io.imread(mask_name)\n",
        "        else:\n",
        "          img_name = os.path.join(self.clean_dir, self.filelist[idx])\n",
        "          image = io.imread(img_name)\n",
        "          mask = np.zeros_like(image)\n",
        "\n",
        "        if self.transform:\n",
        "            image = self.transform(image)\n",
        "            mask = self.transform(mask)[0,:,:]\n",
        "\n",
        "        # Anomaly by default\n",
        "        label = 1\n",
        "        if torch.max(mask) == 0:\n",
        "          label = 0\n",
        "\n",
        "        sample = [image, label, mask]\n",
        "\n",
        "        return sample"
      ],
      "execution_count": null,
      "outputs": []
    },
    {
      "cell_type": "code",
      "metadata": {
        "colab": {
          "base_uri": "https://localhost:8080/"
        },
        "id": "Gd5sA_iErUfo",
        "outputId": "eb15ec48-8c02-4137-92c6-71f12d5fb214"
      },
      "source": [
        "image_folder = '/content/drive/MyDrive/Welding/W0001'\n",
        "masks_folder = '/content/drive/MyDrive/Welding/W0002'\n",
        "clean_folder = '/content/drive/MyDrive/gdxray_selected_patches/clean'\n",
        "\n",
        "transformations = transforms.Compose([\n",
        "                                      transforms.ToTensor(),\n",
        "                                      transforms.CenterCrop(256),\n",
        "                                      transforms.Lambda(lambda x: x.repeat(3, 1, 1) )\n",
        "                                      ])\n",
        "\n",
        "test_dataset = WeldingsTestDataset(image_dir=image_folder,\n",
        "                                   masks_dir=masks_folder,\n",
        "                                   clean_dir=clean_folder,\n",
        "                                   transform=transformations)\n",
        "len(test_dataset)"
      ],
      "execution_count": null,
      "outputs": [
        {
          "output_type": "execute_result",
          "data": {
            "text/plain": [
              "85"
            ]
          },
          "metadata": {
            "tags": []
          },
          "execution_count": 14
        }
      ]
    },
    {
      "cell_type": "code",
      "metadata": {
        "id": "fUTSDzryrUc7"
      },
      "source": [
        "test_dataloader = DataLoader(test_dataset, batch_size=4, shuffle=True, num_workers=0)"
      ],
      "execution_count": null,
      "outputs": []
    },
    {
      "cell_type": "code",
      "metadata": {
        "colab": {
          "base_uri": "https://localhost:8080/"
        },
        "id": "6XcpI5MFrUaC",
        "outputId": "15eeebdb-f8e6-4f17-96ae-c0f20ca580b1"
      },
      "source": [
        "labels = 0\n",
        "\n",
        "for i_batch, (images, label, masks) in enumerate(test_dataloader):\n",
        "    labels += label.sum()\n",
        "    if i_batch < 1:\n",
        "      print(i_batch, images.size(), label)\n",
        "      print(masks.min(), masks.max(), torch.unique(masks))\n",
        "      for image in images:\n",
        "        plt.imshow(torch.moveaxis(image, 0, -1))\n",
        "        plt.show()\n",
        "print(labels)"
      ],
      "execution_count": null,
      "outputs": [
        {
          "output_type": "stream",
          "text": [
            "0 torch.Size([4, 3, 256, 256]) tensor([0, 1, 0, 0])\n",
            "tensor(0.) tensor(1.) tensor([0., 1.])\n"
          ],
          "name": "stdout"
        },
        {
          "output_type": "display_data",
          "data": {
            "image/png": "[encoded data removed]",
            "text/plain": [
              "<Figure size 432x288 with 1 Axes>"
            ]
          },
          "metadata": {
            "tags": [],
            "needs_background": "light"
          }
        },
        {
          "output_type": "display_data",
          "data": {
            "image/png": "[encoded data removed]",
            "text/plain": [
              "<Figure size 432x288 with 1 Axes>"
            ]
          },
          "metadata": {
            "tags": [],
            "needs_background": "light"
          }
        },
        {
          "output_type": "display_data",
          "data": {
            "image/png": "[encoded data removed]",
            "text/plain": [
              "<Figure size 432x288 with 1 Axes>"
            ]
          },
          "metadata": {
            "tags": [],
            "needs_background": "light"
          }
        },
        {
          "output_type": "display_data",
          "data": {
            "image/png": "[encoded data removed]",
            "text/plain": [
              "<Figure size 432x288 with 1 Axes>"
            ]
          },
          "metadata": {
            "tags": [],
            "needs_background": "light"
          }
        },
        {
          "output_type": "stream",
          "text": [
            "tensor(43)\n"
          ],
          "name": "stdout"
        }
      ]
    },
    {
      "cell_type": "markdown",
      "metadata": {
        "id": "_5D4f3G9qlKc"
      },
      "source": [
        "## Training"
      ]
    },
    {
      "cell_type": "code",
      "metadata": {
        "colab": {
          "base_uri": "https://localhost:8080/",
          "height": 966,
          "referenced_widgets": [
            "32c6060621334807b16a965f14715acc",
            "a50f7a9541634736887e6ef3dca1f16e",
            "8720dc12838e4c20b9887a61f9fe2c9a",
            "7468c23bd81449ed9fa2bb69c4ea085c",
            "17c710a3bce74a07aa35a48321dd7ac1",
            "a613e0a25cf246b3b6ddae3ae41b58f4",
            "8db76e578af744de86c30f2bd17689df",
            "e4db5aacd4be4bf380cc9f68baa5a79d",
            "3fce14f8703d42beb042380eb01519f8",
            "23ce0443bb2d40418ed505e210282a06",
            "9cd8ef58e80b4453a35339f6f04e15d5",
            "4e5df0d292e94f6bb592c32fbf1abc5f",
            "6c53b3e150ea4188a4820eb6bae6b86a",
            "bb675a7d644944aca98f9c6b2252b92f",
            "601b58265f5841f2826a7c96b932c57e",
            "4895a1b95d4e478191ffe87ed5483ff7",
            "b6e68ec4a43442f88a7b6d7175ec44c2",
            "b74f1d184fd4448bb42b5e0911d9e5a4",
            "687423a1a18c456cb86507de8529ef23",
            "b322a9776a8642fa92daaddd81ab316d",
            "eb82c506d0734089b5df697ac5178227",
            "5e3d486102d6445387eedb084638f2f0",
            "07df0a2ab54c410aa1eb429fb29e2072",
            "4343ad7bb64b4fe98b588ace5620a90e",
            "4f46abf084f64ee2958bcd2a2e8fed81",
            "23560593732f47278429967180210a87",
            "72c81af0190e4f51bd2f92695de29f04",
            "822c99cbebd04f85b67c1cb9bc897c2c",
            "feac2ee5c2a54fbe866bf047fafef5a7",
            "e8f090085ba049819a3761e2bf7731b6",
            "e41e1265e77142e6a53304b06550c510",
            "957fe082006c45168728f7fb756c29af",
            "312de70da70b464080666545b597a1d4",
            "1f004acb553c40098e338d76d423460c",
            "13dc74c9dac6405e8b4e2ef76f074365",
            "1909fef4d7864b21a759334bf41e7ff6",
            "97f4e6af8bb34b78b216bb13ddd5fd0a",
            "9d348eed6be44448b9324a71acd73409",
            "a38c707cd65945a085471bb09e2a3c11",
            "58a40f1d263449ca950c0bce4dbe01f7"
          ]
        },
        "id": "rC2ZIoOSD5r1",
        "outputId": "59a240ac-9ccb-44fe-d55c-9c52d4da3c3f"
      },
      "source": [
        "device = 'cuda' if torch.cuda.is_available() else 'cpu'\n",
        "my_model = wide_resnet50_2(pretrained=True, progress=True)\n",
        "\n",
        "result_folder = './my_results'\n",
        "class_name = 'Welding'\n",
        "\n",
        "for k in range(10,13, 5):\n",
        "  image_path = os.path.join(result_folder, f'roc_curve_GDX_k_{k}.png')\n",
        "  if os.path.isfile(image_path):\n",
        "    print(k)\n",
        "    continue\n",
        "\n",
        "  fig, ax = plt.subplots(1, 2, figsize=(20, 10))\n",
        "  fig_img_rocauc = ax[0]\n",
        "  fig_pixel_rocauc = ax[1]\n",
        "\n",
        "  total_roc_auc = []\n",
        "  total_pixel_roc_auc = []\n",
        "      \n",
        "  if os.path.isdir(result_folder) and False:\n",
        "    print(f'{result_folder} déjà calculé')\n",
        "\n",
        "  else:\n",
        "    fpr_image, tpr_image, roc_auc, fpr_pixel, tpr_pixel, per_pixel_rocauc = get_scores(train_dataloader, test_dataloader, my_model, visualize=False, knn=k)\n",
        "\n",
        "    os.makedirs(result_folder, exist_ok=True)\n",
        "\n",
        "    np.savetxt(f'{result_folder}/{class_name}_fpr_image.npy', fpr_image)\n",
        "    np.savetxt(f'{result_folder}/{class_name}_tpr_image.npy', tpr_image)\n",
        "    np.savetxt(f'{result_folder}/{class_name}_fpr_pixel.npy', fpr_pixel)\n",
        "    np.savetxt(f'{result_folder}/{class_name}_tpr_pixel.npy', tpr_pixel)\n",
        "\n",
        "    with open(f\"{result_folder}/roc_auc.csv\", \"a\") as fp:\n",
        "        wr = csv.writer(fp, dialect='excel')\n",
        "        wr.writerow([class_name, roc_auc, per_pixel_rocauc])\n",
        "    \n",
        "    total_roc_auc.append(roc_auc)\n",
        "    total_pixel_roc_auc.append(per_pixel_rocauc)\n",
        "\n",
        "    fig_img_rocauc.plot(fpr_image, tpr_image, label='%s ROCAUC: %.3f' % (class_name, roc_auc))\n",
        "    fig_pixel_rocauc.plot(fpr_pixel, tpr_pixel, label='%s ROCAUC: %.3f' % (class_name, per_pixel_rocauc))\n",
        "    torch.cuda.empty_cache()\n",
        "\n",
        "  print('Average ROCAUC: %.3f' % np.mean(total_roc_auc))\n",
        "  fig_img_rocauc.title.set_text('Average image ROCAUC: %.3f' % np.mean(total_roc_auc))\n",
        "  fig_img_rocauc.legend(loc=\"lower right\")\n",
        "\n",
        "  print('Average pixel ROCAUC: %.3f' % np.mean(total_pixel_roc_auc))\n",
        "  fig_pixel_rocauc.title.set_text('Average pixel ROCAUC: %.3f' % np.mean(total_pixel_roc_auc))\n",
        "  fig_pixel_rocauosc.legend(loc=\"lower right\")\n",
        "\n",
        "  fig.tight_layout()\n",
        "  fig.savefig(image_path, dpi=100)"
      ],
      "execution_count": null,
      "outputs": [
        {
          "output_type": "stream",
          "text": [
            "Downloading: \"https://download.pytorch.org/models/wide_resnet50_2-95faca4d.pth\" to /root/.cache/torch/hub/checkpoints/wide_resnet50_2-95faca4d.pth\n"
          ],
          "name": "stderr"
        },
        {
          "output_type": "display_data",
          "data": {
            "application/vnd.jupyter.widget-view+json": {
              "model_id": "32c6060621334807b16a965f14715acc",
              "version_minor": 0,
              "version_major": 2
            },
            "text/plain": [
              "HBox(children=(FloatProgress(value=0.0, max=138223492.0), HTML(value='')))"
            ]
          },
          "metadata": {
            "tags": []
          }
        },
        {
          "output_type": "stream",
          "text": [
            "\n"
          ],
          "name": "stdout"
        },
        {
          "output_type": "display_data",
          "data": {
            "application/vnd.jupyter.widget-view+json": {
              "model_id": "3fce14f8703d42beb042380eb01519f8",
              "version_minor": 0,
              "version_major": 2
            },
            "text/plain": [
              "HBox(children=(FloatProgress(value=0.0, description='| feature extraction | train |', max=29.0, style=Progress…"
            ]
          },
          "metadata": {
            "tags": []
          }
        },
        {
          "output_type": "stream",
          "text": [
            "\n"
          ],
          "name": "stdout"
        },
        {
          "output_type": "display_data",
          "data": {
            "application/vnd.jupyter.widget-view+json": {
              "model_id": "b6e68ec4a43442f88a7b6d7175ec44c2",
              "version_minor": 0,
              "version_major": 2
            },
            "text/plain": [
              "HBox(children=(FloatProgress(value=0.0, description='| feature extraction | test |', max=22.0, style=ProgressS…"
            ]
          },
          "metadata": {
            "tags": []
          }
        },
        {
          "output_type": "stream",
          "text": [
            "\n"
          ],
          "name": "stdout"
        },
        {
          "output_type": "display_data",
          "data": {
            "application/vnd.jupyter.widget-view+json": {
              "model_id": "4f46abf084f64ee2958bcd2a2e8fed81",
              "version_minor": 0,
              "version_major": 2
            },
            "text/plain": [
              "HBox(children=(FloatProgress(value=0.0, description='| feature extraction | test | Welding |', max=22.0, style…"
            ]
          },
          "metadata": {
            "tags": []
          }
        },
        {
          "output_type": "stream",
          "text": [
            "\n",
            "Detection Time: 0.03921365737915039\n",
            "Welding ROCAUC: 0.617\n"
          ],
          "name": "stdout"
        },
        {
          "output_type": "display_data",
          "data": {
            "application/vnd.jupyter.widget-view+json": {
              "model_id": "312de70da70b464080666545b597a1d4",
              "version_minor": 0,
              "version_major": 2
            },
            "text/plain": [
              "HBox(children=(FloatProgress(value=0.0, description='| localization |', max=85.0, style=ProgressStyle(descript…"
            ]
          },
          "metadata": {
            "tags": []
          }
        },
        {
          "output_type": "stream",
          "text": [
            "\n",
            "Localization Time: 215.06107425689697\n",
            "Welding pixel ROCAUC: 0.622\n",
            "Average ROCAUC: 0.617\n",
            "Average pixel ROCAUC: 0.622\n"
          ],
          "name": "stdout"
        },
        {
          "output_type": "display_data",
          "data": {
            "image/png": "[encoded data removed]",
            "text/plain": [
              "<Figure size 1440x720 with 2 Axes>"
            ]
          },
          "metadata": {
            "tags": [],
            "needs_background": "light"
          }
        }
      ]
    },
    {
      "cell_type": "code",
      "metadata": {
        "id": "3lN2xeNcAsfv"
      },
      "source": [
        ""
      ],
      "execution_count": null,
      "outputs": []
    }
  ]
}